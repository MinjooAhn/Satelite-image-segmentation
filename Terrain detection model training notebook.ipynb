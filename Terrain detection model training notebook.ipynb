{
 "cells": [
  {
   "cell_type": "code",
   "execution_count": 2,
   "metadata": {},
   "outputs": [
    {
     "name": "stdout",
     "output_type": "stream",
     "text": [
      "WARNING:tensorflow:From c:\\Users\\paula\\anaconda3\\lib\\site-packages\\keras\\src\\losses.py:2976: The name tf.losses.sparse_softmax_cross_entropy is deprecated. Please use tf.compat.v1.losses.sparse_softmax_cross_entropy instead.\n",
      "\n"
     ]
    }
   ],
   "source": [
    "import imageio.v3 as imageio\n",
    "import numpy as np\n",
    "import matplotlib.pyplot as plt\n",
    "import pandas as pd\n",
    "import math\n",
    "import tensorflow as tf\n",
    "from tensorflow.keras import layers, models"
   ]
  },
  {
   "cell_type": "markdown",
   "metadata": {},
   "source": [
    "Loading the class and meta information and setting the training / validation split"
   ]
  },
  {
   "cell_type": "code",
   "execution_count": 3,
   "metadata": {},
   "outputs": [],
   "source": [
    "classes=pd.read_csv('class_dict.csv') \n",
    "meta=pd.read_csv('metadata.csv')\n",
    "train_meta_df = meta[meta['split'] == 'train']\n",
    "meta_shuffled = train_meta_df.sample(frac=1).reset_index(drop=True)\n",
    "\n",
    "# Splitting into training and test sets\n",
    "train_size = int(0.8 * len(meta_shuffled))\n",
    "training_meta = meta_shuffled[:train_size]\n",
    "training_meta.reset_index(drop=True, inplace=True)\n",
    "validation_meta = meta_shuffled[train_size:]\n",
    "validation_meta.reset_index(drop=True, inplace=True)"
   ]
  },
  {
   "cell_type": "markdown",
   "metadata": {},
   "source": [
    "Data generator class for water terrain detection model"
   ]
  },
  {
   "cell_type": "code",
   "execution_count": 14,
   "metadata": {},
   "outputs": [],
   "source": [
    "class WaterDataset(tf.keras.utils.Sequence):\n",
    "    def __init__(self, meta, batch_size, classes):\n",
    "        self.meta = meta\n",
    "        self.batch_size = batch_size\n",
    "        self.classes = classes\n",
    "\n",
    "    def __len__(self):\n",
    "        return math.ceil(len(self.meta) / self.batch_size)\n",
    "\n",
    "    def __getitem__(self, idx):\n",
    "        start_idx = idx * self.batch_size\n",
    "        end_idx = min((idx + 1) * self.batch_size, len(self.meta))\n",
    "        \n",
    "        batch_x = []\n",
    "        batch_y = []\n",
    "        \n",
    "        for i in range(start_idx, end_idx):\n",
    "            sat_image = imageio.imread(self.meta[\"sat_image_path\"][i])\n",
    "            mask_image = imageio.imread(self.meta[\"mask_path\"][i])\n",
    "            \n",
    "\n",
    "            target_rgb = self.classes.loc[self.classes['name'] == 'water', ['r', 'g', 'b']].values[0]\n",
    "            target_mask = np.all(mask_image == target_rgb, axis=-1).astype(np.uint8)\n",
    "            label = np.max(target_mask)\n",
    "            batch_x.append(sat_image / 255.0)\n",
    "            batch_y.append(label)\n",
    "        \n",
    "        return np.array(batch_x), np.array(batch_y)\n"
   ]
  },
  {
   "cell_type": "markdown",
   "metadata": {},
   "source": [
    "Custom logging callback saving the validation and training loss / accuracy"
   ]
  },
  {
   "cell_type": "code",
   "execution_count": 4,
   "metadata": {},
   "outputs": [],
   "source": [
    "class CustomLoggingCallback(tf.keras.callbacks.Callback):\n",
    "    def __init__(self, log_every=8, val_log=60, val_dataset=None):\n",
    "        self.log_every = log_every\n",
    "        self.val_log = val_log\n",
    "        self.batch_losses = []\n",
    "        self.batch_accuracies = []\n",
    "        self.batch_val_loss = []\n",
    "        self.batch_val_accuracy = []\n",
    "        self.batches = []\n",
    "        self.validation_dataset = val_dataset\n",
    "\n",
    "    def on_batch_end(self, batch, logs=None):\n",
    "        if batch>0 and batch % self.log_every == 0:\n",
    "            logs = logs or {}\n",
    "            loss = logs.get('loss')\n",
    "            accuracy = logs.get('accuracy')\n",
    "            self.batch_losses.append(loss)\n",
    "            self.batch_accuracies.append(accuracy)\n",
    "            self.batches.append(batch)\n",
    "            print(f'Batch {batch}: Loss: {loss}, Accuracy: {accuracy}')\n",
    "\n",
    "        if batch > 0 and batch % self.val_log == 0:\n",
    "            if self.validation_dataset is not None:\n",
    "                val_loss, val_accuracy = self.model.evaluate(self.validation_dataset)\n",
    "                self.batch_val_loss.append(val_loss)\n",
    "                self.batch_val_accuracy.append(val_accuracy)\n",
    "                print(f'Validation at batch {batch}: Loss: {val_loss}, Accuracy: {val_accuracy}')\n"
   ]
  },
  {
   "cell_type": "markdown",
   "metadata": {},
   "source": [
    "Convolutional Neural Network"
   ]
  },
  {
   "cell_type": "code",
   "execution_count": 17,
   "metadata": {},
   "outputs": [
    {
     "name": "stdout",
     "output_type": "stream",
     "text": [
      "Model: \"sequential_3\"\n",
      "_________________________________________________________________\n",
      " Layer (type)                Output Shape              Param #   \n",
      "=================================================================\n",
      " conv2d_12 (Conv2D)          (None, 2448, 2448, 32)    7808      \n",
      "                                                                 \n",
      " batch_normalization_12 (Ba  (None, 2448, 2448, 32)    128       \n",
      " tchNormalization)                                               \n",
      "                                                                 \n",
      " activation_12 (Activation)  (None, 2448, 2448, 32)    0         \n",
      "                                                                 \n",
      " max_pooling2d_12 (MaxPooli  (None, 1224, 1224, 32)    0         \n",
      " ng2D)                                                           \n",
      "                                                                 \n",
      " conv2d_13 (Conv2D)          (None, 1224, 1224, 32)    9248      \n",
      "                                                                 \n",
      " batch_normalization_13 (Ba  (None, 1224, 1224, 32)    128       \n",
      " tchNormalization)                                               \n",
      "                                                                 \n",
      " activation_13 (Activation)  (None, 1224, 1224, 32)    0         \n",
      "                                                                 \n",
      " max_pooling2d_13 (MaxPooli  (None, 612, 612, 32)      0         \n",
      " ng2D)                                                           \n",
      "                                                                 \n",
      " conv2d_14 (Conv2D)          (None, 612, 612, 64)      18496     \n",
      "                                                                 \n",
      " batch_normalization_14 (Ba  (None, 612, 612, 64)      256       \n",
      " tchNormalization)                                               \n",
      "                                                                 \n",
      " activation_14 (Activation)  (None, 612, 612, 64)      0         \n",
      "                                                                 \n",
      " max_pooling2d_14 (MaxPooli  (None, 306, 306, 64)      0         \n",
      " ng2D)                                                           \n",
      "                                                                 \n",
      " conv2d_15 (Conv2D)          (None, 306, 306, 32)      18464     \n",
      "                                                                 \n",
      " batch_normalization_15 (Ba  (None, 306, 306, 32)      128       \n",
      " tchNormalization)                                               \n",
      "                                                                 \n",
      " activation_15 (Activation)  (None, 306, 306, 32)      0         \n",
      "                                                                 \n",
      " max_pooling2d_15 (MaxPooli  (None, 153, 153, 32)      0         \n",
      " ng2D)                                                           \n",
      "                                                                 \n",
      " global_average_pooling2d_3  (None, 32)                0         \n",
      "  (GlobalAveragePooling2D)                                       \n",
      "                                                                 \n",
      " dense_3 (Dense)             (None, 1)                 33        \n",
      "                                                                 \n",
      "=================================================================\n",
      "Total params: 54689 (213.63 KB)\n",
      "Trainable params: 54369 (212.38 KB)\n",
      "Non-trainable params: 320 (1.25 KB)\n",
      "_________________________________________________________________\n"
     ]
    }
   ],
   "source": [
    "model = models.Sequential([\n",
    "    layers.Conv2D(32, (9, 9), padding='same', input_shape=(2448, 2448, 3)),\n",
    "    layers.BatchNormalization(),\n",
    "    layers.Activation('relu'),\n",
    "    layers.MaxPooling2D((2, 2)),\n",
    "    layers.Conv2D(32, (3, 3), padding='same'),\n",
    "    layers.BatchNormalization(),\n",
    "    layers.Activation('relu'),\n",
    "    layers.MaxPooling2D((2, 2)),\n",
    "    layers.Conv2D(64, (3, 3), padding='same'),\n",
    "    layers.BatchNormalization(),\n",
    "    layers.Activation('relu'),\n",
    "    layers.MaxPooling2D((2, 2)),\n",
    "    layers.Conv2D(32, (3, 3), padding='same'),\n",
    "    layers.BatchNormalization(),\n",
    "    layers.Activation('relu'),\n",
    "    layers.MaxPooling2D((2, 2)),\n",
    "    layers.GlobalAveragePooling2D(),\n",
    "    layers.Dense(1, activation='sigmoid')   # The output is a single neuron determining if the desired terrain is present or not\n",
    "])\n",
    "\n",
    "\n",
    "model.compile(optimizer='adam', loss='binary_crossentropy', metrics=['accuracy'])\n",
    "model.summary()"
   ]
  },
  {
   "cell_type": "markdown",
   "metadata": {},
   "source": [
    "Training code where satellite images are called through the dataset generator"
   ]
  },
  {
   "cell_type": "code",
   "execution_count": 18,
   "metadata": {},
   "outputs": [
    {
     "name": "stdout",
     "output_type": "stream",
     "text": [
      "Epoch 1/3\n",
      " 80/321 [======>.......................] - ETA: 13:42 - loss: 0.7581 - accuracy: 0.4375Batch 80: Loss: 0.7584561705589294, Accuracy: 0.4382716119289398\n",
      "81/81 [==============================] - 135s 2s/step - loss: 0.6655 - accuracy: 0.5901\n",
      "Validation at batch 80: Loss: 0.665459930896759, Accuracy: 0.590062141418457\n",
      "160/321 [=============>................] - ETA: 12:24 - loss: 0.6624 - accuracy: 0.6207Batch 160: Loss: 0.6645551919937134, Accuracy: 0.6168224215507507\n",
      "81/81 [==============================] - 142s 2s/step - loss: 0.8155 - accuracy: 0.4472\n",
      "Validation at batch 160: Loss: 0.8155442476272583, Accuracy: 0.44720497727394104\n",
      "240/321 [=====================>........] - ETA: 6:51 - loss: 0.7506 - accuracy: 0.4890Batch 240: Loss: 0.751093327999115, Accuracy: 0.48909658193588257\n",
      "81/81 [==============================] - 145s 2s/step - loss: 0.6812 - accuracy: 0.5466\n",
      "Validation at batch 240: Loss: 0.6811602711677551, Accuracy: 0.5465838313102722\n",
      "320/321 [============================>.] - ETA: 5s - loss: 0.6859 - accuracy: 0.5517 Batch 320: Loss: 0.6872002482414246, Accuracy: 0.5514018535614014\n",
      "81/81 [==============================] - 145s 2s/step - loss: 0.6864 - accuracy: 0.5776\n",
      "Validation at batch 320: Loss: 0.6864402890205383, Accuracy: 0.5776397585868835\n",
      "321/321 [==============================] - 2004s 6s/step - loss: 0.6864 - accuracy: 0.5776 - val_loss: 0.6864 - val_accuracy: 0.5776\n",
      "Epoch 2/3\n",
      " 80/321 [======>.......................] - ETA: 16:33 - loss: 0.6668 - accuracy: 0.6125Batch 80: Loss: 0.6645726561546326, Accuracy: 0.6172839403152466\n",
      "81/81 [==============================] - 143s 2s/step - loss: 0.6601 - accuracy: 0.6646\n",
      "Validation at batch 80: Loss: 0.6601089835166931, Accuracy: 0.6645962595939636\n",
      "160/321 [=============>................] - ETA: 13:28 - loss: 0.6548 - accuracy: 0.6552Batch 160: Loss: 0.6546275019645691, Accuracy: 0.6542056202888489\n",
      "81/81 [==============================] - 144s 2s/step - loss: 0.7120 - accuracy: 0.5963\n",
      "Validation at batch 160: Loss: 0.7120405435562134, Accuracy: 0.5962733030319214\n",
      "240/321 [=====================>........] - ETA: 7:10 - loss: 0.7010 - accuracy: 0.5799Batch 240: Loss: 0.7007275819778442, Accuracy: 0.5794392228126526\n",
      "81/81 [==============================] - 145s 2s/step - loss: 0.6989 - accuracy: 0.5093\n",
      "Validation at batch 240: Loss: 0.698905348777771, Accuracy: 0.5093167424201965\n",
      "320/321 [============================>.] - ETA: 5s - loss: 0.6835 - accuracy: 0.5580 Batch 320: Loss: 0.6825394630432129, Accuracy: 0.5607476830482483\n",
      "81/81 [==============================] - 145s 2s/step - loss: 0.6610 - accuracy: 0.5901\n",
      "Validation at batch 320: Loss: 0.6610129475593567, Accuracy: 0.590062141418457\n",
      "321/321 [==============================] - 2045s 6s/step - loss: 0.6610 - accuracy: 0.5901 - val_loss: 0.6610 - val_accuracy: 0.5901\n",
      "Epoch 3/3\n",
      " 80/321 [======>.......................] - ETA: 16:36 - loss: 0.6531 - accuracy: 0.6187Batch 80: Loss: 0.6515578031539917, Accuracy: 0.6172839403152466\n",
      "81/81 [==============================] - 143s 2s/step - loss: 0.7646 - accuracy: 0.4969\n",
      "Validation at batch 80: Loss: 0.7646374702453613, Accuracy: 0.4968944191932678\n",
      "160/321 [=============>................] - ETA: 13:36 - loss: 0.7260 - accuracy: 0.5235Batch 160: Loss: 0.7267061471939087, Accuracy: 0.5233644843101501\n",
      "81/81 [==============================] - 144s 2s/step - loss: 0.6487 - accuracy: 0.6460\n",
      "Validation at batch 160: Loss: 0.6487166285514832, Accuracy: 0.6459627151489258\n",
      "240/321 [=====================>........] - ETA: 7:14 - loss: 0.6464 - accuracy: 0.6489Batch 240: Loss: 0.649020254611969, Accuracy: 0.644859790802002\n",
      "81/81 [==============================] - 142s 2s/step - loss: 0.6580 - accuracy: 0.6273\n",
      "Validation at batch 240: Loss: 0.6580146551132202, Accuracy: 0.6273291707038879\n",
      "320/321 [============================>.] - ETA: 5s - loss: 0.6643 - accuracy: 0.6144 Batch 320: Loss: 0.6635918021202087, Accuracy: 0.6137071847915649\n",
      "81/81 [==============================] - 136s 2s/step - loss: 0.6912 - accuracy: 0.6149\n",
      "Validation at batch 320: Loss: 0.6912323832511902, Accuracy: 0.6149068474769592\n",
      "321/321 [==============================] - 2033s 6s/step - loss: 0.6912 - accuracy: 0.6149 - val_loss: 0.6912 - val_accuracy: 0.6149\n"
     ]
    },
    {
     "data": {
      "text/plain": [
       "<keras.src.callbacks.History at 0x1d5f95ae550>"
      ]
     },
     "execution_count": 18,
     "metadata": {},
     "output_type": "execute_result"
    }
   ],
   "source": [
    "batch_size = 2\n",
    "# Creating the datasets using the dataset generator\n",
    "training_dataset = WaterDataset(training_meta, batch_size, classes)\n",
    "validation_dataset = WaterDataset(validation_meta, batch_size, classes)\n",
    "# Custom call back\n",
    "custom_logging_callback = CustomLoggingCallback(log_every=80, val_log= 80, val_dataset = validation_dataset)\n",
    "\n",
    "model.fit(training_dataset, validation_data=validation_dataset, epochs = 3, steps_per_epoch= len(training_dataset), callbacks= custom_logging_callback)\n"
   ]
  },
  {
   "cell_type": "code",
   "execution_count": 1,
   "metadata": {},
   "outputs": [
    {
     "ename": "NameError",
     "evalue": "name 'custom_logging_callback' is not defined",
     "output_type": "error",
     "traceback": [
      "\u001b[1;31m---------------------------------------------------------------------------\u001b[0m",
      "\u001b[1;31mNameError\u001b[0m                                 Traceback (most recent call last)",
      "Cell \u001b[1;32mIn[1], line 2\u001b[0m\n\u001b[0;32m      1\u001b[0m \u001b[38;5;66;03m# Retrieving logged data\u001b[39;00m\n\u001b[1;32m----> 2\u001b[0m steps \u001b[38;5;241m=\u001b[39m \u001b[43mcustom_logging_callback\u001b[49m\u001b[38;5;241m.\u001b[39mbatches\n\u001b[0;32m      3\u001b[0m batch_losses \u001b[38;5;241m=\u001b[39m custom_logging_callback\u001b[38;5;241m.\u001b[39mbatch_losses\n\u001b[0;32m      4\u001b[0m batch_accuracies \u001b[38;5;241m=\u001b[39m custom_logging_callback\u001b[38;5;241m.\u001b[39mbatch_accuracies\n",
      "\u001b[1;31mNameError\u001b[0m: name 'custom_logging_callback' is not defined"
     ]
    }
   ],
   "source": [
    "# Retrieving logged data\n",
    "steps = custom_logging_callback.batches\n",
    "batch_losses = custom_logging_callback.batch_losses\n",
    "batch_accuracies = custom_logging_callback.batch_accuracies\n",
    "batch_val_loss = custom_logging_callback.batch_val_loss\n",
    "batch_val_accuracy = custom_logging_callback.batch_val_accuracy\n",
    "\n",
    "# Determining the total number of batches in each epoch\n",
    "batches_per_epoch = len(steps) // 3  \n",
    "\n",
    "# Determining the starting index of the last epoch\n",
    "start_index_last_epoch = batches_per_epoch * 2\n",
    "\n",
    "# Retrieving the relevant logged data for the last epoch\n",
    "last_epoch_steps = steps[start_index_last_epoch:]\n",
    "last_epoch_batch_losses = batch_losses[start_index_last_epoch:]\n",
    "last_epoch_batch_val_loss = batch_val_loss[start_index_last_epoch:]\n",
    "last_epoch_batch_accuracies = batch_accuracies[start_index_last_epoch:]\n",
    "last_epoch_batch_val_accuracy = batch_val_accuracy[start_index_last_epoch:]\n",
    "\n",
    "# Creating lists to hold all data points\n",
    "combined_steps = []\n",
    "combined_losses = []\n",
    "combined_val_losses = []\n",
    "combined_accuracies = []\n",
    "combined_val_accuracies = []\n",
    "\n",
    "# Iterating over the steps, losses, and accuracies\n",
    "for step, loss, accuracy in zip(last_epoch_steps, last_epoch_batch_losses, last_epoch_batch_accuracies):\n",
    "    combined_steps.append(step)\n",
    "    combined_losses.append(loss)\n",
    "    combined_accuracies.append(accuracy)\n",
    "\n",
    "# Iterating over the validation steps, losses, and accuracies\n",
    "val_step_index = 0\n",
    "for step, val_loss, val_accuracy in zip(last_epoch_steps, last_epoch_batch_val_loss, last_epoch_batch_val_accuracy):\n",
    "    # Only including validation metrics at specified intervals\n",
    "    if step % custom_logging_callback.val_log == 0:\n",
    "        combined_val_losses.append(val_loss)\n",
    "        combined_val_accuracies.append(val_accuracy)\n",
    "    else:\n",
    "        # Fill with None for steps where validation metrics are not logged\n",
    "        combined_val_losses.append(None)\n",
    "        combined_val_accuracies.append(None)\n",
    "\n",
    "plt.figure(figsize=(6, 8))\n",
    "\n",
    "# Plotting training and validation loss\n",
    "plt.subplot(2, 1, 1)\n",
    "plt.plot(combined_steps, combined_losses, label='Training Loss', color='blue')\n",
    "plt.plot(combined_steps, combined_val_losses, label='Validation Loss', color='orange', linestyle='--')\n",
    "plt.xlabel('Steps')\n",
    "plt.ylabel('Loss')\n",
    "plt.title('Water Existance Detection Model - Training and Validation Loss')\n",
    "plt.legend()\n",
    "plt.grid(True)\n",
    "\n",
    "# Plotting training and validation accuracy\n",
    "plt.subplot(2, 1, 2)\n",
    "plt.plot(combined_steps, combined_accuracies, label='Training Accuracy', color='blue')\n",
    "plt.plot(combined_steps, combined_val_accuracies, label='Validation Accuracy', color='orange', linestyle='--')\n",
    "plt.xlabel('Steps')\n",
    "plt.ylabel('Accuracy')\n",
    "plt.title('Water Detection Model - Training and Validation Accuracy')\n",
    "plt.legend()\n",
    "plt.grid(True)\n",
    "\n",
    "plt.tight_layout()\n",
    "plt.show()\n"
   ]
  },
  {
   "cell_type": "code",
   "execution_count": 5,
   "metadata": {},
   "outputs": [
    {
     "ename": "NameError",
     "evalue": "name 'model' is not defined",
     "output_type": "error",
     "traceback": [
      "\u001b[1;31m---------------------------------------------------------------------------\u001b[0m",
      "\u001b[1;31mNameError\u001b[0m                                 Traceback (most recent call last)",
      "Cell \u001b[1;32mIn[5], line 2\u001b[0m\n\u001b[0;32m      1\u001b[0m \u001b[38;5;66;03m# Saving model\u001b[39;00m\n\u001b[1;32m----> 2\u001b[0m \u001b[43mmodel\u001b[49m\u001b[38;5;241m.\u001b[39msave(\u001b[38;5;124m\"\u001b[39m\u001b[38;5;124mWATERFINAL.keras\u001b[39m\u001b[38;5;124m\"\u001b[39m)\n",
      "\u001b[1;31mNameError\u001b[0m: name 'model' is not defined"
     ]
    }
   ],
   "source": [
    "# Saving model\n",
    "model.save(\"WATERFINAL.keras\")"
   ]
  },
  {
   "cell_type": "markdown",
   "metadata": {},
   "source": [
    "Data generator class for urban terrain detection model"
   ]
  },
  {
   "cell_type": "code",
   "execution_count": 10,
   "metadata": {},
   "outputs": [],
   "source": [
    "class UrbanDataset(tf.keras.utils.Sequence):\n",
    "    def __init__(self, meta, batch_size, classes):\n",
    "        self.meta = meta\n",
    "        self.batch_size = batch_size\n",
    "        self.classes = classes\n",
    "\n",
    "    def __len__(self):\n",
    "        return math.ceil(len(self.meta) / self.batch_size)\n",
    "\n",
    "    def __getitem__(self, idx):\n",
    "        start_idx = idx * self.batch_size\n",
    "        end_idx = min((idx + 1) * self.batch_size, len(self.meta))\n",
    "        \n",
    "        batch_x = []\n",
    "        batch_y = []\n",
    "        \n",
    "        for i in range(start_idx, end_idx):\n",
    "            sat_image = imageio.imread(self.meta[\"sat_image_path\"][i])\n",
    "            mask_image = imageio.imread(self.meta[\"mask_path\"][i])\n",
    "            \n",
    "\n",
    "            target_rgb = self.classes.loc[self.classes['name'] == 'urban_land', ['r', 'g', 'b']].values[0]\n",
    "            target_mask = np.all(mask_image == target_rgb, axis=-1).astype(np.uint8)\n",
    "            label = np.max(target_mask)\n",
    "            batch_x.append(sat_image / 255.0)\n",
    "            batch_y.append(label)\n",
    "        return np.array(batch_x), np.array(batch_y)\n"
   ]
  },
  {
   "cell_type": "markdown",
   "metadata": {},
   "source": [
    "Convolutional Neural Network model"
   ]
  },
  {
   "cell_type": "code",
   "execution_count": 11,
   "metadata": {},
   "outputs": [
    {
     "name": "stdout",
     "output_type": "stream",
     "text": [
      "Model: \"sequential_1\"\n",
      "_________________________________________________________________\n",
      " Layer (type)                Output Shape              Param #   \n",
      "=================================================================\n",
      " conv2d_4 (Conv2D)           (None, 2448, 2448, 32)    7808      \n",
      "                                                                 \n",
      " batch_normalization_4 (Bat  (None, 2448, 2448, 32)    128       \n",
      " chNormalization)                                                \n",
      "                                                                 \n",
      " activation_4 (Activation)   (None, 2448, 2448, 32)    0         \n",
      "                                                                 \n",
      " max_pooling2d_4 (MaxPoolin  (None, 1224, 1224, 32)    0         \n",
      " g2D)                                                            \n",
      "                                                                 \n",
      " conv2d_5 (Conv2D)           (None, 1224, 1224, 32)    9248      \n",
      "                                                                 \n",
      " batch_normalization_5 (Bat  (None, 1224, 1224, 32)    128       \n",
      " chNormalization)                                                \n",
      "                                                                 \n",
      " activation_5 (Activation)   (None, 1224, 1224, 32)    0         \n",
      "                                                                 \n",
      " max_pooling2d_5 (MaxPoolin  (None, 612, 612, 32)      0         \n",
      " g2D)                                                            \n",
      "                                                                 \n",
      " conv2d_6 (Conv2D)           (None, 612, 612, 64)      18496     \n",
      "                                                                 \n",
      " batch_normalization_6 (Bat  (None, 612, 612, 64)      256       \n",
      " chNormalization)                                                \n",
      "                                                                 \n",
      " activation_6 (Activation)   (None, 612, 612, 64)      0         \n",
      "                                                                 \n",
      " max_pooling2d_6 (MaxPoolin  (None, 306, 306, 64)      0         \n",
      " g2D)                                                            \n",
      "                                                                 \n",
      " conv2d_7 (Conv2D)           (None, 306, 306, 32)      18464     \n",
      "                                                                 \n",
      " batch_normalization_7 (Bat  (None, 306, 306, 32)      128       \n",
      " chNormalization)                                                \n",
      "                                                                 \n",
      " activation_7 (Activation)   (None, 306, 306, 32)      0         \n",
      "                                                                 \n",
      " max_pooling2d_7 (MaxPoolin  (None, 153, 153, 32)      0         \n",
      " g2D)                                                            \n",
      "                                                                 \n",
      " global_average_pooling2d_1  (None, 32)                0         \n",
      "  (GlobalAveragePooling2D)                                       \n",
      "                                                                 \n",
      " dense_1 (Dense)             (None, 1)                 33        \n",
      "                                                                 \n",
      "=================================================================\n",
      "Total params: 54689 (213.63 KB)\n",
      "Trainable params: 54369 (212.38 KB)\n",
      "Non-trainable params: 320 (1.25 KB)\n",
      "_________________________________________________________________\n"
     ]
    }
   ],
   "source": [
    "model = models.Sequential([\n",
    "    layers.Conv2D(32, (9, 9), padding='same', input_shape=(2448, 2448, 3)),\n",
    "    layers.BatchNormalization(),\n",
    "    layers.Activation('relu'),\n",
    "    layers.MaxPooling2D((2, 2)),\n",
    "    layers.Conv2D(32, (3, 3), padding='same'),\n",
    "    layers.BatchNormalization(),\n",
    "    layers.Activation('relu'),\n",
    "    layers.MaxPooling2D((2, 2)),\n",
    "    layers.Conv2D(64, (3, 3), padding='same'),\n",
    "    layers.BatchNormalization(),\n",
    "    layers.Activation('relu'),\n",
    "    layers.MaxPooling2D((2, 2)),\n",
    "    layers.Conv2D(32, (3, 3), padding='same'),\n",
    "    layers.BatchNormalization(),\n",
    "    layers.Activation('relu'),\n",
    "    layers.MaxPooling2D((2, 2)),\n",
    "    layers.GlobalAveragePooling2D(),\n",
    "    layers.Dense(1, activation='sigmoid')\n",
    "])\n",
    "\n",
    "\n",
    "model.compile(optimizer='adam', loss='binary_crossentropy', metrics=['accuracy'])\n",
    "model.summary()"
   ]
  },
  {
   "cell_type": "markdown",
   "metadata": {},
   "source": [
    "Training the urban terrain detection model"
   ]
  },
  {
   "cell_type": "code",
   "execution_count": 12,
   "metadata": {},
   "outputs": [
    {
     "name": "stdout",
     "output_type": "stream",
     "text": [
      "Epoch 1/3\n",
      " 80/321 [======>.......................] - ETA: 15:17 - loss: 0.6122 - accuracy: 0.6562Batch 80: Loss: 0.6084322929382324, Accuracy: 0.6604938507080078\n",
      "81/81 [==============================] - 150s 2s/step - loss: 0.7003 - accuracy: 0.4534\n",
      "Validation at batch 80: Loss: 0.7002739310264587, Accuracy: 0.4534161388874054\n",
      "160/321 [=============>................] - ETA: 12:56 - loss: 0.5982 - accuracy: 0.6113Batch 160: Loss: 0.5966346263885498, Accuracy: 0.6137071847915649\n",
      "81/81 [==============================] - 127s 2s/step - loss: 1.3791 - accuracy: 0.8075\n",
      "Validation at batch 160: Loss: 1.3791477680206299, Accuracy: 0.8074533939361572\n",
      "240/321 [=====================>........] - ETA: 6:37 - loss: 0.9672 - accuracy: 0.7806Batch 240: Loss: 0.9635388851165771, Accuracy: 0.781931459903717\n",
      "81/81 [==============================] - 120s 1s/step - loss: 0.7320 - accuracy: 0.8075\n",
      "Validation at batch 240: Loss: 0.73203045129776, Accuracy: 0.8074533939361572\n",
      "320/321 [============================>.] - ETA: 4s - loss: 0.5976 - accuracy: 0.8213Batch 320: Loss: 0.5982488393783569, Accuracy: 0.8193146586418152\n",
      "81/81 [==============================] - 112s 1s/step - loss: 0.5312 - accuracy: 0.8075\n",
      "Validation at batch 320: Loss: 0.5312058329582214, Accuracy: 0.8074533939361572\n",
      "321/321 [==============================] - 1800s 6s/step - loss: 0.5312 - accuracy: 0.8075 - val_loss: 0.5312 - val_accuracy: 0.8075\n",
      "Epoch 2/3\n",
      " 80/321 [======>.......................] - ETA: 13:23 - loss: 0.4517 - accuracy: 0.8250Batch 80: Loss: 0.4497271478176117, Accuracy: 0.8271604776382446\n",
      "81/81 [==============================] - 112s 1s/step - loss: 0.5223 - accuracy: 0.8075\n",
      "Validation at batch 80: Loss: 0.5222631692886353, Accuracy: 0.8074533939361572\n",
      "160/321 [=============>................] - ETA: 10:52 - loss: 0.5146 - accuracy: 0.8056Batch 160: Loss: 0.5127943158149719, Accuracy: 0.8068535923957825\n",
      "81/81 [==============================] - 113s 1s/step - loss: 0.4910 - accuracy: 0.8075\n",
      "Validation at batch 160: Loss: 0.49095556139945984, Accuracy: 0.8074533939361572\n",
      "240/321 [=====================>........] - ETA: 5:45 - loss: 0.4536 - accuracy: 0.8213Batch 240: Loss: 0.45266860723495483, Accuracy: 0.822429895401001\n",
      "81/81 [==============================] - 111s 1s/step - loss: 1.0585 - accuracy: 0.8075\n",
      "Validation at batch 240: Loss: 1.0585345029830933, Accuracy: 0.8074533939361572\n",
      "320/321 [============================>.] - ETA: 4s - loss: 0.8053 - accuracy: 0.7837Batch 320: Loss: 0.8023831844329834, Accuracy: 0.7850467562675476\n",
      "81/81 [==============================] - 111s 1s/step - loss: 0.5102 - accuracy: 0.8075\n",
      "Validation at batch 320: Loss: 0.5102206468582153, Accuracy: 0.8074533939361572\n",
      "321/321 [==============================] - 1621s 5s/step - loss: 0.5102 - accuracy: 0.8075 - val_loss: 0.5102 - val_accuracy: 0.8075\n",
      "Epoch 3/3\n",
      " 80/321 [======>.......................] - ETA: 14:11 - loss: 0.4973 - accuracy: 0.7812Batch 80: Loss: 0.4940108358860016, Accuracy: 0.7839506268501282\n",
      "81/81 [==============================] - 130s 2s/step - loss: 0.4796 - accuracy: 0.8075\n",
      "Validation at batch 80: Loss: 0.4796225428581238, Accuracy: 0.8074533939361572\n",
      "160/321 [=============>................] - ETA: 12:18 - loss: 0.4563 - accuracy: 0.8213Batch 160: Loss: 0.4545229971408844, Accuracy: 0.822429895401001\n",
      "81/81 [==============================] - 116s 1s/step - loss: 0.5495 - accuracy: 0.7329\n",
      "Validation at batch 160: Loss: 0.5495370030403137, Accuracy: 0.7329192757606506\n",
      "240/321 [=====================>........] - ETA: 6:20 - loss: 0.5176 - accuracy: 0.7712Batch 240: Loss: 0.5261406898498535, Accuracy: 0.7663551568984985\n",
      "81/81 [==============================] - 116s 1s/step - loss: 0.6196 - accuracy: 0.8075\n",
      "Validation at batch 240: Loss: 0.6195534467697144, Accuracy: 0.8074533939361572\n",
      "320/321 [============================>.] - ETA: 4s - loss: 0.5476 - accuracy: 0.8088Batch 320: Loss: 0.5455520749092102, Accuracy: 0.8099688291549683\n",
      "81/81 [==============================] - 114s 1s/step - loss: 0.5047 - accuracy: 0.8075\n",
      "Validation at batch 320: Loss: 0.5047391057014465, Accuracy: 0.8074533939361572\n",
      "321/321 [==============================] - 1737s 5s/step - loss: 0.5047 - accuracy: 0.8075 - val_loss: 0.5047 - val_accuracy: 0.8075\n"
     ]
    },
    {
     "data": {
      "text/plain": [
       "<keras.src.callbacks.History at 0x15f25321550>"
      ]
     },
     "execution_count": 12,
     "metadata": {},
     "output_type": "execute_result"
    }
   ],
   "source": [
    "batch_size = 2\n",
    "\n",
    "training_dataset = UrbanDataset(training_meta, batch_size, classes)\n",
    "validation_dataset = UrbanDataset(validation_meta, batch_size, classes)\n",
    "\n",
    "custom_logging_callback = CustomLoggingCallback(log_every=80, val_log= 80, val_dataset = validation_dataset)\n",
    "\n",
    "model.fit(training_dataset, validation_data=validation_dataset, epochs = 3, steps_per_epoch= len(training_dataset), callbacks= custom_logging_callback)"
   ]
  },
  {
   "cell_type": "code",
   "execution_count": 13,
   "metadata": {},
   "outputs": [
    {
     "data": {
      "image/png": "[encoded data removed]",
      "text/plain": [
       "<Figure size 600x800 with 2 Axes>"
      ]
     },
     "metadata": {},
     "output_type": "display_data"
    }
   ],
   "source": [
    "# Retrieving logged data\n",
    "steps = custom_logging_callback.batches\n",
    "batch_losses = custom_logging_callback.batch_losses\n",
    "batch_accuracies = custom_logging_callback.batch_accuracies\n",
    "batch_val_loss = custom_logging_callback.batch_val_loss\n",
    "batch_val_accuracy = custom_logging_callback.batch_val_accuracy\n",
    "\n",
    "# Determining the total number of batches in each epoch\n",
    "batches_per_epoch = len(steps) // 3  \n",
    "\n",
    "# Determining the starting index of the last epoch\n",
    "start_index_last_epoch = batches_per_epoch * 2\n",
    "\n",
    "# Retrieving the relevant logged data for the last epoch\n",
    "last_epoch_steps = steps[start_index_last_epoch:]\n",
    "last_epoch_batch_losses = batch_losses[start_index_last_epoch:]\n",
    "last_epoch_batch_val_loss = batch_val_loss[start_index_last_epoch:]\n",
    "last_epoch_batch_accuracies = batch_accuracies[start_index_last_epoch:]\n",
    "last_epoch_batch_val_accuracy = batch_val_accuracy[start_index_last_epoch:]\n",
    "\n",
    "# Creating lists to hold all data points\n",
    "combined_steps = []\n",
    "combined_losses = []\n",
    "combined_val_losses = []\n",
    "combined_accuracies = []\n",
    "combined_val_accuracies = []\n",
    "\n",
    "# Iterating over the steps, losses, and accuracies\n",
    "for step, loss, accuracy in zip(last_epoch_steps, last_epoch_batch_losses, last_epoch_batch_accuracies):\n",
    "    combined_steps.append(step)\n",
    "    combined_losses.append(loss)\n",
    "    combined_accuracies.append(accuracy)\n",
    "\n",
    "# Iterating over the validation steps, losses, and accuracies\n",
    "val_step_index = 0\n",
    "for step, val_loss, val_accuracy in zip(last_epoch_steps, last_epoch_batch_val_loss, last_epoch_batch_val_accuracy):\n",
    "    # Only including validation metrics at specified intervals\n",
    "    if step % custom_logging_callback.val_log == 0:\n",
    "        combined_val_losses.append(val_loss)\n",
    "        combined_val_accuracies.append(val_accuracy)\n",
    "    else:\n",
    "        # Fill with None for steps where validation metrics are not logged\n",
    "        combined_val_losses.append(None)\n",
    "        combined_val_accuracies.append(None)\n",
    "\n",
    "plt.figure(figsize=(6, 8))\n",
    "\n",
    "# Plotting training and validation loss\n",
    "plt.subplot(2, 1, 1)\n",
    "plt.plot(combined_steps, combined_losses, label='Training Loss', color='blue')\n",
    "plt.plot(combined_steps, combined_val_losses, label='Validation Loss', color='orange', linestyle='--')\n",
    "plt.xlabel('Steps')\n",
    "plt.ylabel('Loss')\n",
    "plt.title('Urban Existance Detection Model - Training and Validation Loss')\n",
    "plt.legend()\n",
    "plt.grid(True)\n",
    "\n",
    "# Plotting training and validation accuracy\n",
    "plt.subplot(2, 1, 2)\n",
    "plt.plot(combined_steps, combined_accuracies, label='Training Accuracy', color='blue')\n",
    "plt.plot(combined_steps, combined_val_accuracies, label='Validation Accuracy', color='orange', linestyle='--')\n",
    "plt.xlabel('Steps')\n",
    "plt.ylabel('Accuracy')\n",
    "plt.title('Urban Detection Model - Training and Validation Accuracy')\n",
    "plt.legend()\n",
    "plt.grid(True)\n",
    "\n",
    "plt.tight_layout()\n",
    "plt.show()\n"
   ]
  },
  {
   "cell_type": "code",
   "execution_count": null,
   "metadata": {},
   "outputs": [],
   "source": [
    "model.save(\"UrbanFINAL.keras\")"
   ]
  }
 ],
 "metadata": {
  "kernelspec": {
   "display_name": "base",
   "language": "python",
   "name": "python3"
  },
  "language_info": {
   "codemirror_mode": {
    "name": "ipython",
    "version": 3
   },
   "file_extension": ".py",
   "mimetype": "text/x-python",
   "name": "python",
   "nbconvert_exporter": "python",
   "pygments_lexer": "ipython3",
   "version": "3.9.13"
  }
 },
 "nbformat": 4,
 "nbformat_minor": 2
}
